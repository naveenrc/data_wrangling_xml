{
 "cells": [
  {
   "cell_type": "code",
   "execution_count": 1,
   "metadata": {
    "collapsed": true
   },
   "outputs": [],
   "source": [
    "from xml.etree import ElementTree as ET\n",
    "import numpy\n",
    "import pandas as pd"
   ]
  },
  {
   "cell_type": "code",
   "execution_count": 2,
   "metadata": {
    "collapsed": true
   },
   "outputs": [],
   "source": [
    "document_tree = ET.parse('./data/mondial_database.xml')"
   ]
  },
  {
   "cell_type": "markdown",
   "metadata": {},
   "source": [
    "#### * 10 countries with the lowest infant mortality rates"
   ]
  },
  {
   "cell_type": "code",
   "execution_count": 3,
   "metadata": {},
   "outputs": [
    {
     "data": {
      "text/html": [
       "<div>\n",
       "<style>\n",
       "    .dataframe thead tr:only-child th {\n",
       "        text-align: right;\n",
       "    }\n",
       "\n",
       "    .dataframe thead th {\n",
       "        text-align: left;\n",
       "    }\n",
       "\n",
       "    .dataframe tbody tr th {\n",
       "        vertical-align: top;\n",
       "    }\n",
       "</style>\n",
       "<table border=\"1\" class=\"dataframe\">\n",
       "  <thead>\n",
       "    <tr style=\"text-align: right;\">\n",
       "      <th></th>\n",
       "      <th>country</th>\n",
       "    </tr>\n",
       "    <tr>\n",
       "      <th>rate</th>\n",
       "      <th></th>\n",
       "    </tr>\n",
       "  </thead>\n",
       "  <tbody>\n",
       "    <tr>\n",
       "      <th>1.81</th>\n",
       "      <td>Monaco</td>\n",
       "    </tr>\n",
       "    <tr>\n",
       "      <th>2.13</th>\n",
       "      <td>Japan</td>\n",
       "    </tr>\n",
       "    <tr>\n",
       "      <th>2.48</th>\n",
       "      <td>Bermuda</td>\n",
       "    </tr>\n",
       "    <tr>\n",
       "      <th>2.53</th>\n",
       "      <td>Singapore</td>\n",
       "    </tr>\n",
       "    <tr>\n",
       "      <th>2.60</th>\n",
       "      <td>Sweden</td>\n",
       "    </tr>\n",
       "    <tr>\n",
       "      <th>2.63</th>\n",
       "      <td>Czech Republic</td>\n",
       "    </tr>\n",
       "    <tr>\n",
       "      <th>2.73</th>\n",
       "      <td>Hong Kong</td>\n",
       "    </tr>\n",
       "    <tr>\n",
       "      <th>3.13</th>\n",
       "      <td>Macao</td>\n",
       "    </tr>\n",
       "    <tr>\n",
       "      <th>3.15</th>\n",
       "      <td>Iceland</td>\n",
       "    </tr>\n",
       "    <tr>\n",
       "      <th>3.31</th>\n",
       "      <td>Italy</td>\n",
       "    </tr>\n",
       "  </tbody>\n",
       "</table>\n",
       "</div>"
      ],
      "text/plain": [
       "             country\n",
       "rate                \n",
       "1.81          Monaco\n",
       "2.13           Japan\n",
       "2.48         Bermuda\n",
       "2.53       Singapore\n",
       "2.60          Sweden\n",
       "2.63  Czech Republic\n",
       "2.73       Hong Kong\n",
       "3.13           Macao\n",
       "3.15         Iceland\n",
       "3.31           Italy"
      ]
     },
     "execution_count": 3,
     "metadata": {},
     "output_type": "execute_result"
    }
   ],
   "source": [
    "#10 countries with the lowest infant mortality rates\n",
    "\n",
    "#create a dictionary of infant mortality and country\n",
    "infant_mortality = {}\n",
    "for child in document_tree.getroot():\n",
    "    try:\n",
    "        #'infant mortality' rate is key and country name is value\n",
    "        infant_mortality[float(child.find('infant_mortality').text)] = child.find('name').text\n",
    "    except AttributeError:   #if 'infant_mortality' is not present this error is thrown\n",
    "        pass\n",
    "    \n",
    "#Convert to dataframe        \n",
    "im_df = pd.DataFrame.from_dict(infant_mortality,orient = 'index')\n",
    "im_df = im_df.rename(columns={0:'country'})\n",
    "im_df.index.rename('rate',inplace=True)\n",
    "im_df = im_df.sort_index()\n",
    "im_df.head(10)"
   ]
  },
  {
   "cell_type": "markdown",
   "metadata": {},
   "source": [
    "#### *10 cities with the largest population"
   ]
  },
  {
   "cell_type": "code",
   "execution_count": 4,
   "metadata": {},
   "outputs": [
    {
     "data": {
      "text/html": [
       "<div>\n",
       "<style>\n",
       "    .dataframe thead tr:only-child th {\n",
       "        text-align: right;\n",
       "    }\n",
       "\n",
       "    .dataframe thead th {\n",
       "        text-align: left;\n",
       "    }\n",
       "\n",
       "    .dataframe tbody tr th {\n",
       "        vertical-align: top;\n",
       "    }\n",
       "</style>\n",
       "<table border=\"1\" class=\"dataframe\">\n",
       "  <thead>\n",
       "    <tr style=\"text-align: right;\">\n",
       "      <th></th>\n",
       "      <th>country</th>\n",
       "    </tr>\n",
       "    <tr>\n",
       "      <th>population</th>\n",
       "      <th></th>\n",
       "    </tr>\n",
       "  </thead>\n",
       "  <tbody>\n",
       "    <tr>\n",
       "      <th>22315474</th>\n",
       "      <td>Shanghai</td>\n",
       "    </tr>\n",
       "    <tr>\n",
       "      <th>13710512</th>\n",
       "      <td>Istanbul</td>\n",
       "    </tr>\n",
       "    <tr>\n",
       "      <th>12442373</th>\n",
       "      <td>Mumbai</td>\n",
       "    </tr>\n",
       "    <tr>\n",
       "      <th>11979529</th>\n",
       "      <td>Moskva</td>\n",
       "    </tr>\n",
       "    <tr>\n",
       "      <th>11716620</th>\n",
       "      <td>Beijing</td>\n",
       "    </tr>\n",
       "    <tr>\n",
       "      <th>11152344</th>\n",
       "      <td>São Paulo</td>\n",
       "    </tr>\n",
       "    <tr>\n",
       "      <th>11090314</th>\n",
       "      <td>Tianjin</td>\n",
       "    </tr>\n",
       "    <tr>\n",
       "      <th>11071424</th>\n",
       "      <td>Guangzhou</td>\n",
       "    </tr>\n",
       "    <tr>\n",
       "      <th>11034555</th>\n",
       "      <td>Delhi</td>\n",
       "    </tr>\n",
       "    <tr>\n",
       "      <th>10358381</th>\n",
       "      <td>Shenzhen</td>\n",
       "    </tr>\n",
       "  </tbody>\n",
       "</table>\n",
       "</div>"
      ],
      "text/plain": [
       "              country\n",
       "population           \n",
       "22315474     Shanghai\n",
       "13710512     Istanbul\n",
       "12442373       Mumbai\n",
       "11979529       Moskva\n",
       "11716620      Beijing\n",
       "11152344    São Paulo\n",
       "11090314      Tianjin\n",
       "11071424    Guangzhou\n",
       "11034555        Delhi\n",
       "10358381     Shenzhen"
      ]
     },
     "execution_count": 4,
     "metadata": {},
     "output_type": "execute_result"
    }
   ],
   "source": [
    "#10 cities with the largest population\n",
    "\n",
    "#create a dictionary of population and country\n",
    "population = {}\n",
    "for elt in document_tree.getiterator(tag='city'):  #iterate though tree to find 'city' element\n",
    "    try:\n",
    "        #population is key and city name is value\n",
    "        #use index [-1] to pick latest population\n",
    "        population[int(elt.findall('population')[-1].text)] = elt.find('name').text\n",
    "    except AttributeError:\n",
    "        pass\n",
    "    except IndexError: #if population is not present this error is thrown\n",
    "        pass\n",
    "    \n",
    "#Convert to dataframe        \n",
    "im_df = pd.DataFrame.from_dict(population,orient = 'index')\n",
    "im_df = im_df.rename(columns={0:'country'})\n",
    "im_df.index.rename('population',inplace=True)\n",
    "im_df = im_df.sort_index(ascending=False)\n",
    "im_df.head(10)"
   ]
  },
  {
   "cell_type": "markdown",
   "metadata": {},
   "source": [
    "#### *10 ethnic groups with the largest overall populations (sum of best/latest estimates over all countries)"
   ]
  },
  {
   "cell_type": "code",
   "execution_count": 5,
   "metadata": {},
   "outputs": [
    {
     "data": {
      "text/html": [
       "<div>\n",
       "<style>\n",
       "    .dataframe thead tr:only-child th {\n",
       "        text-align: right;\n",
       "    }\n",
       "\n",
       "    .dataframe thead th {\n",
       "        text-align: left;\n",
       "    }\n",
       "\n",
       "    .dataframe tbody tr th {\n",
       "        vertical-align: top;\n",
       "    }\n",
       "</style>\n",
       "<table border=\"1\" class=\"dataframe\">\n",
       "  <thead>\n",
       "    <tr style=\"text-align: right;\">\n",
       "      <th></th>\n",
       "      <th>population</th>\n",
       "    </tr>\n",
       "    <tr>\n",
       "      <th>ethnicity</th>\n",
       "      <th></th>\n",
       "    </tr>\n",
       "  </thead>\n",
       "  <tbody>\n",
       "    <tr>\n",
       "      <th>Han Chinese</th>\n",
       "      <td>1245058800</td>\n",
       "    </tr>\n",
       "    <tr>\n",
       "      <th>Indo-Aryan</th>\n",
       "      <td>871815583</td>\n",
       "    </tr>\n",
       "    <tr>\n",
       "      <th>European</th>\n",
       "      <td>494872201</td>\n",
       "    </tr>\n",
       "    <tr>\n",
       "      <th>African</th>\n",
       "      <td>318325104</td>\n",
       "    </tr>\n",
       "    <tr>\n",
       "      <th>Dravidian</th>\n",
       "      <td>302713744</td>\n",
       "    </tr>\n",
       "    <tr>\n",
       "      <th>Mestizo</th>\n",
       "      <td>157734349</td>\n",
       "    </tr>\n",
       "    <tr>\n",
       "      <th>Bengali</th>\n",
       "      <td>146776916</td>\n",
       "    </tr>\n",
       "    <tr>\n",
       "      <th>Russian</th>\n",
       "      <td>131856989</td>\n",
       "    </tr>\n",
       "    <tr>\n",
       "      <th>Japanese</th>\n",
       "      <td>126534212</td>\n",
       "    </tr>\n",
       "    <tr>\n",
       "      <th>Malay</th>\n",
       "      <td>121993548</td>\n",
       "    </tr>\n",
       "  </tbody>\n",
       "</table>\n",
       "</div>"
      ],
      "text/plain": [
       "             population\n",
       "ethnicity              \n",
       "Han Chinese  1245058800\n",
       "Indo-Aryan    871815583\n",
       "European      494872201\n",
       "African       318325104\n",
       "Dravidian     302713744\n",
       "Mestizo       157734349\n",
       "Bengali       146776916\n",
       "Russian       131856989\n",
       "Japanese      126534212\n",
       "Malay         121993548"
      ]
     },
     "execution_count": 5,
     "metadata": {},
     "output_type": "execute_result"
    }
   ],
   "source": [
    "#10 ethnic groups with the largest overall populations (sum of best/latest estimates over all countries)\n",
    "#ethnic_group_population = ethnic_group_percentage * total_population_of_that_country\n",
    "\n",
    "ethnic_groups = {}\n",
    "for child in document_tree.getiterator('country'):\n",
    "    try:\n",
    "        temp_pop = int(child.findall('population')[-1].text) #current country population\n",
    "    except AttributeError:\n",
    "        pass\n",
    "    except IndexError: #if population is not present this error is thrown\n",
    "        pass\n",
    "    \n",
    "    for elt in child.getiterator(tag='ethnicgroup'):  #iterate though country to find 'ethnicgroup' element\n",
    "        if elt.text in ethnic_groups:\n",
    "            ethnic_groups[elt.text] += int((float(elt.attrib['percentage'])/100.0) * temp_pop)\n",
    "        else:\n",
    "            ethnic_groups[elt.text] = int((float(elt.attrib['percentage'])/100.0) * temp_pop)\n",
    "    \n",
    "#Convert to dataframe        \n",
    "im_df = pd.DataFrame.from_dict(ethnic_groups,orient = 'index')\n",
    "im_df = im_df.rename(columns={0:'population'})\n",
    "im_df.index.rename('ethnicity',inplace=True)\n",
    "im_df = im_df.sort_values(by='population',ascending=False)\n",
    "im_df.head(10)"
   ]
  },
  {
   "cell_type": "markdown",
   "metadata": {},
   "source": [
    "#### *name and country of a) longest river, b) largest lake and c) airport at highest elevation"
   ]
  },
  {
   "cell_type": "code",
   "execution_count": 6,
   "metadata": {},
   "outputs": [
    {
     "name": "stdout",
     "output_type": "stream",
     "text": [
      "{'Longest river':'Country'}-> {'Amazonas': 'Colombia'}\n",
      "{'Largest Lake':'Country'}-> {'Caspian Sea': 'Russia'}\n",
      "{'Highest Airport':'Country'}-> {'El Alto Intl': 'Bolivia'}\n"
     ]
    }
   ],
   "source": [
    "#name and country of a) longest river, b) largest lake and c) airport at highest elevation\n",
    "\n",
    "import collections\n",
    "#collections can be used to sort countries dict to fetch from it in less time\n",
    "countries = {}\n",
    "for child in document_tree.getiterator('country'):\n",
    "    try:\n",
    "        countries[child.attrib['car_code']] = child.find('name').text #current country\n",
    "    except AttributeError:\n",
    "        pass\n",
    "countries = collections.OrderedDict(sorted(countries.items()))\n",
    "#print(countries)\n",
    "\n",
    "#longest river\n",
    "longest_river = {}\n",
    "temp_len = 0\n",
    "for elt in document_tree.getiterator('river'):\n",
    "    try:\n",
    "        if float(elt.find('length').text) > temp_len:\n",
    "            temp_len = float(elt.find('length').text)\n",
    "            temp_coun = elt.attrib['country']\n",
    "            temp_name = elt.find('name').text\n",
    "    except AttributeError:\n",
    "        pass\n",
    "longest_river[temp_name] = countries[temp_coun.split(' ')[0]]\n",
    "print(\"{'Longest river':'Country'}->\",longest_river)\n",
    "\n",
    "#largest lake\n",
    "largest_lake = {}\n",
    "temp_volume = 0\n",
    "max_volume = 0\n",
    "for elt in document_tree.getiterator('lake'):\n",
    "    try:\n",
    "        temp_volume = float(elt.find('area').text) * float(elt.find('depth').text)  #to find largest lake = area*depth\n",
    "        if temp_volume > max_volume:\n",
    "            max_volume = temp_volume\n",
    "            temp_coun = elt.attrib['country']\n",
    "            temp_name = elt.find('name').text\n",
    "    except AttributeError:\n",
    "        pass\n",
    "largest_lake[temp_name] = countries[temp_coun.split(' ')[0]]\n",
    "print(\"{'Largest Lake':'Country'}->\",largest_lake)\n",
    "\n",
    "#highest airport\n",
    "highest_airport = {}\n",
    "temp_high = 0\n",
    "for elt in document_tree.getiterator('airport'):\n",
    "    try:\n",
    "        if float(elt.find('elevation').text) > temp_high:\n",
    "            temp_high = float(elt.find('elevation').text)\n",
    "            temp_coun = elt.attrib['country']\n",
    "            temp_name = elt.find('name').text\n",
    "    except AttributeError:\n",
    "        pass\n",
    "    except TypeError:\n",
    "        pass\n",
    "highest_airport[temp_name] = countries[temp_coun.split(' ')[0]]\n",
    "print(\"{'Highest Airport':'Country'}->\",highest_airport)"
   ]
  },
  {
   "cell_type": "code",
   "execution_count": null,
   "metadata": {
    "collapsed": true
   },
   "outputs": [],
   "source": []
  },
  {
   "cell_type": "code",
   "execution_count": null,
   "metadata": {
    "collapsed": true
   },
   "outputs": [],
   "source": []
  },
  {
   "cell_type": "code",
   "execution_count": null,
   "metadata": {
    "collapsed": true
   },
   "outputs": [],
   "source": []
  },
  {
   "cell_type": "code",
   "execution_count": null,
   "metadata": {
    "collapsed": true
   },
   "outputs": [],
   "source": []
  },
  {
   "cell_type": "code",
   "execution_count": null,
   "metadata": {
    "collapsed": true
   },
   "outputs": [],
   "source": []
  },
  {
   "cell_type": "code",
   "execution_count": null,
   "metadata": {
    "collapsed": true
   },
   "outputs": [],
   "source": []
  }
 ],
 "metadata": {
  "kernelspec": {
   "display_name": "Python 3",
   "language": "python",
   "name": "python3"
  },
  "language_info": {
   "codemirror_mode": {
    "name": "ipython",
    "version": 3
   },
   "file_extension": ".py",
   "mimetype": "text/x-python",
   "name": "python",
   "nbconvert_exporter": "python",
   "pygments_lexer": "ipython3",
   "version": "3.6.1"
  }
 },
 "nbformat": 4,
 "nbformat_minor": 2
}
